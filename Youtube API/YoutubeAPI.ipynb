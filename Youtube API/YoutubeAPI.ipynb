{
 "cells": [
  {
   "cell_type": "markdown",
   "metadata": {},
   "source": [
    "# Goal\n",
    "Use the Youtube API to pull channel and video data from a popular channel\n",
    "Visualize the data and run basic analysis\n",
    "\n",
    "Credit to the tutorial on Youtube API from ClarityCoders youtube: https://www.youtube.com/watch?v=2mSwcRb3KjQ"
   ]
  },
  {
   "cell_type": "code",
   "execution_count": 92,
   "metadata": {},
   "outputs": [
    {
     "name": "stdout",
     "output_type": "stream",
     "text": [
      "Requirement already satisfied: google-api-python-client in c:\\programdata\\miniconda3\\envs\\minimal_data\\lib\\site-packages (2.28.0)\n",
      "Requirement already satisfied: google-auth-httplib2 in c:\\programdata\\miniconda3\\envs\\minimal_data\\lib\\site-packages (0.1.0)\n",
      "Requirement already satisfied: google-auth-oauthlib in c:\\programdata\\miniconda3\\envs\\minimal_data\\lib\\site-packages (0.4.6)\n",
      "Requirement already satisfied: google-auth<3.0.0dev,>=1.16.0 in c:\\programdata\\miniconda3\\envs\\minimal_data\\lib\\site-packages (from google-api-python-client) (2.3.2)\n",
      "Requirement already satisfied: httplib2<1dev,>=0.15.0 in c:\\programdata\\miniconda3\\envs\\minimal_data\\lib\\site-packages (from google-api-python-client) (0.20.1)\n",
      "Requirement already satisfied: uritemplate<5,>=3.0.0 in c:\\programdata\\miniconda3\\envs\\minimal_data\\lib\\site-packages (from google-api-python-client) (4.1.1)\n",
      "Requirement already satisfied: google-api-core<3.0.0dev,>=1.21.0 in c:\\programdata\\miniconda3\\envs\\minimal_data\\lib\\site-packages (from google-api-python-client) (2.2.1)\n",
      "Requirement already satisfied: six in c:\\programdata\\miniconda3\\envs\\minimal_data\\lib\\site-packages (from google-auth-httplib2) (1.16.0)\n",
      "Requirement already satisfied: requests-oauthlib>=0.7.0 in c:\\programdata\\miniconda3\\envs\\minimal_data\\lib\\site-packages (from google-auth-oauthlib) (1.3.0)\n",
      "Requirement already satisfied: setuptools>=40.3.0 in c:\\programdata\\miniconda3\\envs\\minimal_data\\lib\\site-packages (from google-api-core<3.0.0dev,>=1.21.0->google-api-python-client) (58.2.0)\n",
      "Requirement already satisfied: googleapis-common-protos<2.0dev,>=1.52.0 in c:\\programdata\\miniconda3\\envs\\minimal_data\\lib\\site-packages (from google-api-core<3.0.0dev,>=1.21.0->google-api-python-client) (1.53.0)\n",
      "Requirement already satisfied: requests<3.0.0dev,>=2.18.0 in c:\\programdata\\miniconda3\\envs\\minimal_data\\lib\\site-packages (from google-api-core<3.0.0dev,>=1.21.0->google-api-python-client) (2.26.0)\n",
      "Requirement already satisfied: protobuf>=3.12.0 in c:\\programdata\\miniconda3\\envs\\minimal_data\\lib\\site-packages (from google-api-core<3.0.0dev,>=1.21.0->google-api-python-client) (3.19.1)\n",
      "Requirement already satisfied: cachetools<5.0,>=2.0.0 in c:\\programdata\\miniconda3\\envs\\minimal_data\\lib\\site-packages (from google-auth<3.0.0dev,>=1.16.0->google-api-python-client) (4.2.4)\n",
      "Requirement already satisfied: rsa<5,>=3.1.4 in c:\\programdata\\miniconda3\\envs\\minimal_data\\lib\\site-packages (from google-auth<3.0.0dev,>=1.16.0->google-api-python-client) (4.7.2)\n",
      "Requirement already satisfied: pyasn1-modules>=0.2.1 in c:\\programdata\\miniconda3\\envs\\minimal_data\\lib\\site-packages (from google-auth<3.0.0dev,>=1.16.0->google-api-python-client) (0.2.8)\n",
      "Requirement already satisfied: pyparsing<3,>=2.4.2 in c:\\programdata\\miniconda3\\envs\\minimal_data\\lib\\site-packages (from httplib2<1dev,>=0.15.0->google-api-python-client) (2.4.7)\n",
      "Requirement already satisfied: oauthlib>=3.0.0 in c:\\programdata\\miniconda3\\envs\\minimal_data\\lib\\site-packages (from requests-oauthlib>=0.7.0->google-auth-oauthlib) (3.1.1)\n",
      "Requirement already satisfied: pyasn1<0.5.0,>=0.4.6 in c:\\programdata\\miniconda3\\envs\\minimal_data\\lib\\site-packages (from pyasn1-modules>=0.2.1->google-auth<3.0.0dev,>=1.16.0->google-api-python-client) (0.4.8)\n",
      "Requirement already satisfied: idna<4,>=2.5 in c:\\programdata\\miniconda3\\envs\\minimal_data\\lib\\site-packages (from requests<3.0.0dev,>=2.18.0->google-api-core<3.0.0dev,>=1.21.0->google-api-python-client) (3.3)\n",
      "Requirement already satisfied: certifi>=2017.4.17 in c:\\programdata\\miniconda3\\envs\\minimal_data\\lib\\site-packages (from requests<3.0.0dev,>=2.18.0->google-api-core<3.0.0dev,>=1.21.0->google-api-python-client) (2021.10.8)\n",
      "Requirement already satisfied: charset-normalizer~=2.0.0 in c:\\programdata\\miniconda3\\envs\\minimal_data\\lib\\site-packages (from requests<3.0.0dev,>=2.18.0->google-api-core<3.0.0dev,>=1.21.0->google-api-python-client) (2.0.7)\n",
      "Requirement already satisfied: urllib3<1.27,>=1.21.1 in c:\\programdata\\miniconda3\\envs\\minimal_data\\lib\\site-packages (from requests<3.0.0dev,>=2.18.0->google-api-core<3.0.0dev,>=1.21.0->google-api-python-client) (1.26.7)\n"
     ]
    }
   ],
   "source": [
    "!pip install --upgrade google-api-python-client google-auth-httplib2 google-auth-oauthlib"
   ]
  },
  {
   "cell_type": "code",
   "execution_count": 93,
   "metadata": {},
   "outputs": [],
   "source": [
    "#import config file that stores API_KEY (not included in repo)\n",
    "import config\n",
    "from googleapiclient.discovery import build\n",
    "import pandas as pd\n"
   ]
  },
  {
   "cell_type": "code",
   "execution_count": 94,
   "metadata": {},
   "outputs": [],
   "source": [
    "# Channel will be SmarterEveryDay\n",
    "channel_id = \"UC6107grRI4m0o2-emgoDnAA\"\n",
    "youtube = build(\"youtube\", \"v3\", developerKey=config.API_KEY)"
   ]
  },
  {
   "cell_type": "markdown",
   "metadata": {},
   "source": [
    "## Functions\n",
    "The approach will be to use the Youtube API in 3 steps:\n",
    "1. Get the channel stats, and a playlist ID for all uploads on the channel\n",
    "2. Create a list of video IDs from the uploads playlist\n",
    "3. Create of list of details for each video\n"
   ]
  },
  {
   "cell_type": "code",
   "execution_count": 95,
   "metadata": {},
   "outputs": [],
   "source": [
    "# function to get stats from channel - contains upload playlist ID to use later\n",
    "def get_channel_stats(youtube, channel_id):\n",
    "    request = youtube.channels().list(\n",
    "        part = \"snippet,contentDetails,statistics\",\n",
    "        id = channel_id\n",
    "    )\n",
    "\n",
    "    response = request.execute()\n",
    "\n",
    "    return response[\"items\"]"
   ]
  },
  {
   "cell_type": "code",
   "execution_count": 96,
   "metadata": {},
   "outputs": [],
   "source": [
    "# function to get video data from uploads playlist\n",
    "def get_video_list(youtube, playlist_id):\n",
    "    video_list = []\n",
    "\n",
    "    request = youtube.playlistItems().list(\n",
    "        part = \"snippet,contentDetails\",\n",
    "        playlistId = playlist_id,\n",
    "        maxResults = 50\n",
    "    )\n",
    "    next_page = True\n",
    "\n",
    "    while next_page:\n",
    "        response = request.execute()\n",
    "        data = response[\"items\"]\n",
    "\n",
    "        for video in data:\n",
    "            video_id = video[\"contentDetails\"][\"videoId\"]\n",
    "            video_list.append(video_id)\n",
    "        \n",
    "        if 'nextPageToken' in response.keys():\n",
    "            next_page = True\n",
    "            request = youtube.playlistItems().list(\n",
    "                part = \"snippet,contentDetails\",\n",
    "                playlistId = playlist_id,\n",
    "                maxResults = 50,\n",
    "                pageToken = response['nextPageToken']\n",
    "            )\n",
    "        else:\n",
    "            next_page = False\n",
    "    \n",
    "    return video_list\n"
   ]
  },
  {
   "cell_type": "code",
   "execution_count": 97,
   "metadata": {},
   "outputs": [],
   "source": [
    "# Function to get video details\n",
    "def get_video_details(youtube, video_list):\n",
    "    video_stats = []\n",
    "    \n",
    "    for i in range(0, len(video_list), 50):\n",
    "        request = youtube.videos().list(\n",
    "            part = \"snippet,contentDetails,statistics\",\n",
    "            id = video_list[i:i+50]\n",
    "        )\n",
    "\n",
    "        response = request.execute()\n",
    "\n",
    "        for video in response[\"items\"]:\n",
    "            title = video[\"snippet\"][\"title\"]\n",
    "            published_date = video[\"snippet\"][\"publishedAt\"]\n",
    "            tags = video[\"snippet\"][\"tags\"]\n",
    "            tag_count = len(tags)\n",
    "            view_count = video[\"statistics\"].get('viewCount', 0)\n",
    "            like_count = video[\"statistics\"].get('likeCount', 0)\n",
    "            dislike_count = video[\"statistics\"].get('dislikeCount', 0)\n",
    "            comment_count = video[\"statistics\"].get('commentCount', 0)\n",
    "            \n",
    "            video_stats_dict = dict(\n",
    "                title = title,\n",
    "                published_date = published_date,\n",
    "                tags = tags,\n",
    "                tag_count = tag_count,\n",
    "                view_count = view_count, \n",
    "                like_count = like_count,\n",
    "                dislike_count = dislike_count, \n",
    "                comment_count = comment_count\n",
    "                )\n",
    "\n",
    "            video_stats.append(video_stats_dict)\n",
    "\n",
    "    return video_stats"
   ]
  },
  {
   "cell_type": "markdown",
   "metadata": {},
   "source": [
    "## Execution"
   ]
  },
  {
   "cell_type": "code",
   "execution_count": 98,
   "metadata": {},
   "outputs": [],
   "source": [
    "# 1. Get the channel stats and uploads playlist ID\n",
    "channel_stats = get_channel_stats(youtube, channel_id)\n",
    "uploads_playlist_id = channel_stats[0]['contentDetails']['relatedPlaylists']['uploads']\n",
    "\n",
    "# 2. Create a list of video IDs\n",
    "video_list = get_video_list(youtube, uploads_playlist_id)\n",
    "\n",
    "# 3. Create a list of video details\n",
    "video_details = get_video_details(youtube, video_list)"
   ]
  },
  {
   "cell_type": "markdown",
   "metadata": {},
   "source": [
    "Now that I have our video details in a list of dictionaries, I can create a pandas dataframe to aid in manipulating and visualizing this data. I'll save this dataframe to a csv for future access."
   ]
  },
  {
   "cell_type": "code",
   "execution_count": 100,
   "metadata": {},
   "outputs": [],
   "source": [
    "video_df = pd.DataFrame(video_details)\n",
    "\n",
    "video_df.to_csv('youtube_video_details')"
   ]
  }
 ],
 "metadata": {
  "interpreter": {
   "hash": "0f4855d551e4aaac2cc369b291fee71f6d986749f8a9fa86c27f984777c61472"
  },
  "kernelspec": {
   "display_name": "Python 3.9.7 64-bit ('minimal_data': conda)",
   "name": "python3"
  },
  "language_info": {
   "codemirror_mode": {
    "name": "ipython",
    "version": 3
   },
   "file_extension": ".py",
   "mimetype": "text/x-python",
   "name": "python",
   "nbconvert_exporter": "python",
   "pygments_lexer": "ipython3",
   "version": "3.9.7"
  },
  "orig_nbformat": 4
 },
 "nbformat": 4,
 "nbformat_minor": 2
}
